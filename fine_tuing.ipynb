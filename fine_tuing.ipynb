{
 "cells": [
  {
   "cell_type": "code",
   "execution_count": null,
   "metadata": {},
   "outputs": [],
   "source": [
    "from openai import OpenAI\n",
    "from dotenv import load_dotenv, find_dotenv\n",
    "_ : bool = load_dotenv(find_dotenv()) # \n",
    "\n",
    "client: OpenAI = OpenAI()"
   ]
  },
  {
   "cell_type": "code",
   "execution_count": null,
   "metadata": {},
   "outputs": [],
   "source": [
    "filname:str= \"message.jsonl\"\n",
    "file_data=open (file_name,'rb')\n",
    "file= client.files.create(\n",
    "    file=file_data\n",
    "    purpose='fine-tuning'\n",
    ")"
   ]
  },
  {
   "cell_type": "code",
   "execution_count": null,
   "metadata": {},
   "outputs": [],
   "source": [
    "fine_tune_model= client.fine_tuning.jobs.create(\n",
    "    training_file=file.id\n",
    "    model='gpt-3.5-turbo'\n",
    "    \n",
    ")\n"
   ]
  },
  {
   "cell_type": "code",
   "execution_count": null,
   "metadata": {},
   "outputs": [],
   "source": [
    "import time \n",
    "\n",
    "while True:\n",
    "    data=client.fine_tuning.jobs.retrieve(fine_tune_model)\n",
    "    if(data.status)== 'succeeded'\n",
    "    break\n",
    "elif data.status == 'failed':\n",
    "         print('fine-tune failed'\n",
    "               )\n",
    "         break\n",
    "else:\n",
    "    print ('fine-tune still running')\n",
    "    time.sleep(5)"
   ]
  },
  {
   "cell_type": "code",
   "execution_count": null,
   "metadata": {},
   "outputs": [],
   "source": [
    "from openai.types.chat.chat_completion import ChatCompletion\n",
    "\n",
    "def chat_completion(prompt : str )-> str:\n",
    "    res: ChatCompletion=client.chat.completions.create(\n",
    "    model =\"ft:gpt-3.5-turbo-0613:personal::8TEbB8a7\",\n",
    "    message=[ {\"role\": \"system\", \"content\": \"You are a sarcastic assistant.\"},\n",
    "            {\n",
    "                \"role\": \"user\",\n",
    "                \"content\": prompt,\n",
    "            }])"
   ]
  },
  {
   "cell_type": "code",
   "execution_count": null,
   "metadata": {},
   "outputs": [],
   "source": [
    "chat_completion(\"Who wrote 'Romeo and Juliet'?\")"
   ]
  }
 ],
 "metadata": {
  "language_info": {
   "name": "python"
  }
 },
 "nbformat": 4,
 "nbformat_minor": 2
}
