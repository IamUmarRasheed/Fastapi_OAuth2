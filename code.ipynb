{
 "cells": [
  {
   "cell_type": "code",
   "execution_count": null,
   "metadata": {},
   "outputs": [],
   "source": [
    "from datetime import datetime\n",
    "from typing import Tuple\n",
    "from pydantic import BaseModel\n",
    "\n",
    "class Delivery (BaseModel):\n",
    "    timeStamp :datetime\n",
    "    dimenstions:tuple [int,innt]\n",
    "    \n",
    "from datetime import datetime\n",
    "\n",
    "from pydantic import BaseModel, PositiveInt\n",
    "\n",
    "    m= Delivery(timestamp='2020-01-02T03:04:05Z', dimensions=['10', '20'])\n"
   ]
  },
  {
   "cell_type": "code",
   "execution_count": null,
   "metadata": {},
   "outputs": [],
   "source": [
    "from datetime import datetime\n",
    "\n",
    "from pydantic import BaseModel, PositiveInt\n",
    "\n",
    "\n",
    "\n",
    "class User(BaseModel):\n",
    "    id:int\n",
    "    name:str='jjn doe'\n",
    "    sign_up:datetime | None\n",
    "    tesates: dict[str,PositiveInt]\n",
    "    external_data = {\n",
    "    'id': 123,\n",
    "    'signup_ts': '2019-06-01 12:22',  \n",
    "    'tastes': {\n",
    "        'wine': 9,\n",
    "        b'cheese': 7,  \n",
    "        'cabbage': '1',  \n",
    "    },\n",
    "    'name' : \"Muhammad Qasim\"\n",
    "}\n",
    "    \n",
    "user = User(**external_data)  \n",
    "\n",
    "print(user.id)  \n",
    "#> 123\n",
    "display(user.model_dump())  \n",
    "try:\n",
    "    User(**external)\n",
    "except validationError as e:\n",
    "    display(e.errors())\n",
    "    "
   ]
  },
  {
   "cell_type": "code",
   "execution_count": null,
   "metadata": {},
   "outputs": [],
   "source": [
    "from pydantic import BaseModel, EmailStr, validator\n",
    "class User(BaseModel):\n",
    "    name:str\n",
    "    email:EmailStr\n",
    "    account_id:int\n",
    "    @validator\n",
    "    def valide_acount_id(cls,value:int):\n",
    "         if value <= 0:\n",
    "                raise ValueError(f\"Account ID must be Positive: {value}\")\n",
    "        return value\n",
    "    \n",
    "user1:User=Usern(ame=\"Zia Khan\", email=\"zia@panacloud.org\", account_id=-200)\n",
    "userjson= user1.model_dump_json()\n",
    "User.moder_valider_json"
   ]
  }
 ],
 "metadata": {
  "language_info": {
   "name": "python"
  }
 },
 "nbformat": 4,
 "nbformat_minor": 2
}
